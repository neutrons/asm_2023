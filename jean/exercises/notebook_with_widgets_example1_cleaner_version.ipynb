{
 "cells": [
  {
   "cell_type": "markdown",
   "id": "d9d4f9a0",
   "metadata": {},
   "source": [
    "# GOAL\n",
    "\n",
    "* load data set from data/exemple1\n",
    "* crop and make sure the sample is within the field of view for all the images\n",
    "* export to data/output\n"
   ]
  },
  {
   "cell_type": "markdown",
   "id": "9a0cf7f8",
   "metadata": {},
   "source": [
    "# Python imports "
   ]
  },
  {
   "cell_type": "code",
   "execution_count": null,
   "id": "6738f5dd",
   "metadata": {},
   "outputs": [],
   "source": [
    "from python_code import Exercise1WithWidgets\n",
    "%matplotlib notebook"
   ]
  },
  {
   "cell_type": "markdown",
   "id": "e214cf6c",
   "metadata": {},
   "source": [
    "# Input, load and visualize data"
   ]
  },
  {
   "cell_type": "code",
   "execution_count": null,
   "id": "44cc453a",
   "metadata": {},
   "outputs": [],
   "source": [
    "o_exercise = Exercise1WithWidgets()\n",
    "o_exercise.input_load_and_visualize_data()"
   ]
  },
  {
   "cell_type": "markdown",
   "id": "034041ad",
   "metadata": {},
   "source": [
    "# Crop data "
   ]
  },
  {
   "cell_type": "code",
   "execution_count": null,
   "id": "544dd0c3",
   "metadata": {},
   "outputs": [],
   "source": [
    "%matplotlib inline\n",
    "o_exercise.crop_data()"
   ]
  },
  {
   "cell_type": "markdown",
   "id": "5051f1d4",
   "metadata": {},
   "source": [
    "# Visualize data cropped "
   ]
  },
  {
   "cell_type": "code",
   "execution_count": null,
   "id": "ea6a8b43",
   "metadata": {},
   "outputs": [],
   "source": [
    "%matplotlib notebook\n",
    "o_exercise.visualize_data_cropped()"
   ]
  },
  {
   "cell_type": "markdown",
   "id": "96035064",
   "metadata": {},
   "source": [
    "# Export data "
   ]
  },
  {
   "cell_type": "code",
   "execution_count": null,
   "id": "9e82b822",
   "metadata": {},
   "outputs": [],
   "source": [
    "o_exercise.export_data()"
   ]
  }
 ],
 "metadata": {
  "kernelspec": {
   "display_name": "Python 3 (ipykernel)",
   "language": "python",
   "name": "python3"
  },
  "language_info": {
   "codemirror_mode": {
    "name": "ipython",
    "version": 3
   },
   "file_extension": ".py",
   "mimetype": "text/x-python",
   "name": "python",
   "nbconvert_exporter": "python",
   "pygments_lexer": "ipython3",
   "version": "3.8.13"
  }
 },
 "nbformat": 4,
 "nbformat_minor": 5
}
