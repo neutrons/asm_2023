{
 "cells": [
  {
   "attachments": {},
   "cell_type": "markdown",
   "metadata": {},
   "source": [
    "# Example 1 Simple equilibrium calculation with TC-Python\n",
    "\n",
    "## Define problem\n",
    "As a demonstration, we will find the equilibrium phases and the volume fraction of corresponding phases through TC-Python.\n",
    "The system that we are interested in is the Fe-Cr-C system with 9wt%Cr and 0.2wt% C at 1773 K 1 bar.\n",
    "We will use TCFE11 database to conduct this calcualtion.\n",
    "\n",
    "## The general workflow to calculate equilibrium properties follows\n",
    "1. Set a NTP condition (N: Element compositions, T: Temperature, P: Pressure),\n",
    "2. Import databases,\n",
    "3. Select phases (Recommended phase selection is given by default),\n",
    "4. Calculate,\n",
    "5. Data processsing.\n",
    "\n",
    "\n",
    "\n"
   ]
  },
  {
   "attachments": {},
   "cell_type": "markdown",
   "metadata": {},
   "source": [
    "\n",
    "## 1. Calculation Preparation\n",
    "First we import the following libraries: numpy, pandas, and tc_python.\n",
    "Step 1. we define the system and NTP condition in the python variables.\n",
    "Note that this approach will make it easier to functionalize the code blocks for later application."
   ]
  },
  {
   "cell_type": "code",
   "execution_count": null,
   "metadata": {},
   "outputs": [],
   "source": [
    "import numpy as np, pandas as pd\n",
    "from tc_python import *\n",
    "\n",
    "\n",
    "database='TCFE11'           #Define database\n",
    "elements=['Fe','Cr','C']    #Define system\n",
    "compositions=[1,0.09,0.002] #Weight fraction for each elements. The first element value is dependent\n",
    "temperature=1773            #Absolute temperature in Kelvin\n",
    "pressure=1e5                #Pressure in pascal\n"
   ]
  },
  {
   "attachments": {},
   "cell_type": "markdown",
   "metadata": {},
   "source": [
    "## 2. TC-Python Calculation\n",
    "We start the calculation by calling a session in tc_python.\n",
    "Please make sure to close the session when calculations are completed."
   ]
  },
  {
   "cell_type": "code",
   "execution_count": null,
   "metadata": {},
   "outputs": [],
   "source": [
    "\n",
    "# Start TCPython session\n",
    "TC = TCPython()\n",
    "sess = TC.__enter__()\n",
    "\n",
    "# Make sure you close the settion by\n",
    "# TC.__exit__(sess,0,0)\n",
    "\n",
    "# Alternatively, you can use \n",
    "# with TCPython() as sess:"
   ]
  },
  {
   "attachments": {},
   "cell_type": "markdown",
   "metadata": {},
   "source": [
    "Next, we define the system of interest, database, and phases.\n",
    "This part completes the workflow of 2. Import database and 3. Phase selection.\n",
    "We uses a calculation method called 'single equilibrium calculation' to find equilibrium."
   ]
  },
  {
   "cell_type": "code",
   "execution_count": null,
   "metadata": {},
   "outputs": [],
   "source": [
    "\n",
    "TCcalc = (\n",
    "            sess\n",
    "            .select_database_and_elements(database, elements)   #Import database & select elements\n",
    "            .select_phase('FCC_L12')                            #select a phase\n",
    "            #.deselect_phase('BCC_B2')                          #deselect a phase\n",
    "            .get_system()                                       #Complete the phase selection\n",
    "            .with_single_equilibrium_calculation()              #Define calculation method\n",
    "            .enable_global_minimization()                       #Enable global minimization\n",
    "        )\n",
    "\n"
   ]
  },
  {
   "attachments": {},
   "cell_type": "markdown",
   "metadata": {},
   "source": [
    "Now we provide the condition to find the phase equilibria.\n",
    "Note that TC-Python takes the first element of the list as a dependent element when we set the composition.\n",
    "After setting the condition, conduct the calculation and save the results in 'result' variable."
   ]
  },
  {
   "cell_type": "code",
   "execution_count": null,
   "metadata": {},
   "outputs": [],
   "source": [
    "\n",
    "#When the composition is given in wt fraction, take a function from tc_python that defines it.\n",
    "wf = ThermodynamicQuantity.mass_fraction_of_a_component\n",
    "for i in range(1,len(elements)):\n",
    "    TCcalc.set_condition(wf(elements[i]), compositions[i])\n",
    "TCcalc.set_condition(ThermodynamicQuantity.temperature(), temperature)\n",
    "TCcalc.set_condition(ThermodynamicQuantity.pressure(), pressure)\n",
    "result = TCcalc.calculate()"
   ]
  },
  {
   "attachments": {},
   "cell_type": "markdown",
   "metadata": {},
   "source": [
    "The variable 'result' contains many classes of variables. \n",
    "We need to process the data to obtain the names of stable phases and corresponding volume fractions."
   ]
  },
  {
   "cell_type": "code",
   "execution_count": null,
   "metadata": {},
   "outputs": [],
   "source": [
    "phases=result.get_stable_phases()\n",
    "output =dict({})\n",
    "for phase in phases:\n",
    "    VPV=result.get_value_of(\"VPV({})\".format(phase))\n",
    "    output['VPV_{}'.format(phase)]=VPV\n",
    "\n",
    "# Close TCPython session\n",
    "TC.__exit__(sess,0,0)\n",
    "\n",
    "print(output)"
   ]
  }
 ],
 "metadata": {
  "kernelspec": {
   "display_name": "Python 3 (ipykernel)",
   "language": "python",
   "name": "python3"
  },
  "language_info": {
   "codemirror_mode": {
    "name": "ipython",
    "version": 3
   },
   "file_extension": ".py",
   "mimetype": "text/x-python",
   "name": "python",
   "nbconvert_exporter": "python",
   "pygments_lexer": "ipython3",
   "version": "3.10.11"
  }
 },
 "nbformat": 4,
 "nbformat_minor": 2
}
