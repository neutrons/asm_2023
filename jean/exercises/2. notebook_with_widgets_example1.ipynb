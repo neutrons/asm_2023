{
 "cells": [
  {
   "cell_type": "markdown",
   "id": "d9d4f9a0",
   "metadata": {},
   "source": [
    "# GOAL\n",
    "\n",
    "* load data set from data/exemple1\n",
    "* crop and make sure the sample is within the field of view for all the images\n",
    "* export to data/output\n"
   ]
  },
  {
   "cell_type": "markdown",
   "id": "862fd264",
   "metadata": {},
   "source": [
    "# Python imports "
   ]
  },
  {
   "cell_type": "code",
   "execution_count": null,
   "id": "6738f5dd",
   "metadata": {},
   "outputs": [],
   "source": [
    "import glob\n",
    "import os\n",
    "import numpy as np\n",
    "from PIL import Image\n",
    "import matplotlib.pyplot as plt\n",
    "import ipywe.fileselector\n",
    "\n",
    "from ipywidgets import interactive\n",
    "import ipywidgets as widgets\n",
    "\n",
    "import time"
   ]
  },
  {
   "cell_type": "markdown",
   "id": "e214cf6c",
   "metadata": {},
   "source": [
    "# Input data folder"
   ]
  },
  {
   "cell_type": "code",
   "execution_count": null,
   "id": "ad5da7c7",
   "metadata": {},
   "outputs": [],
   "source": [
    "data_folder = ipywe.fileselector.FileSelectorPanel(instruction=\"Select images\",\n",
    "                                                   filters={'TIFF': ['*.tif*']},\n",
    "                                                   default_filter='TIFF',\n",
    "                                                   multiple=True)\n",
    "data_folder.show()"
   ]
  },
  {
   "cell_type": "markdown",
   "id": "117209d7",
   "metadata": {},
   "source": [
    "# Load data "
   ]
  },
  {
   "cell_type": "code",
   "execution_count": null,
   "id": "84a4d27f",
   "metadata": {},
   "outputs": [],
   "source": [
    "list_files = data_folder.selected\n",
    "images = []\n",
    "\n",
    "pb = widgets.IntProgress(min=0, max=len(list_files)-1, description=\"Loading\")\n",
    "display(pb)\n",
    "\n",
    "for _index, _file in enumerate(list_files):\n",
    "    _image = np.array(Image.open(_file))\n",
    "    images.append(_image)\n",
    "    pb.value = _index+1\n",
    "    time.sleep(0.15)    # slowing down the load to be able to see the progress bar in action\n",
    "    \n",
    "pb.description = \"Done!\""
   ]
  },
  {
   "cell_type": "markdown",
   "id": "d39c09b2",
   "metadata": {},
   "source": [
    "# Visualize data"
   ]
  },
  {
   "cell_type": "code",
   "execution_count": null,
   "id": "edcae4b7",
   "metadata": {},
   "outputs": [],
   "source": [
    "%matplotlib notebook\n",
    "fig, ax = plt.subplots(nrows=1, ncols=1)\n",
    "ax_image = ax.imshow(images[0])\n",
    "cb = plt.colorbar(ax_image, ax=ax)\n",
    "plt.show()\n",
    "\n",
    "def plot(index):\n",
    "    global cb\n",
    "    cb.remove()\n",
    "    ax_image = ax.imshow(images[index])\n",
    "    cb = plt.colorbar(ax_image, ax=ax)\n",
    "    plt.show()\n",
    "    \n",
    "v = interactive(plot,\n",
    "               index = widgets.IntSlider(min=0,\n",
    "                                        max=len(images)-1))\n",
    "display(v)"
   ]
  },
  {
   "cell_type": "markdown",
   "id": "70299321",
   "metadata": {},
   "source": [
    "__exercise__: Let's now visualize image index 5, 7, and 10 "
   ]
  },
  {
   "cell_type": "markdown",
   "id": "034041ad",
   "metadata": {},
   "source": [
    "# Crop data "
   ]
  },
  {
   "cell_type": "code",
   "execution_count": null,
   "id": "094b221d",
   "metadata": {},
   "outputs": [],
   "source": [
    "%matplotlib inline\n",
    "[height, width] = np.shape(images[0])\n",
    "\n",
    "def plot(index, left, right, top, bottom):\n",
    "    fig, ax = plt.subplots(nrows=1, ncols=1, figsize=(7,7))\n",
    "    ax_image = ax.imshow(images[index])\n",
    "    ax.axvline(left, color='blue')\n",
    "    ax.axvline(right, color='blue')\n",
    "    ax.axhline(top, color='red')\n",
    "    ax.axhline(bottom, color='red')\n",
    "    plt.show()\n",
    "    \n",
    "    return left, right, top, bottom\n",
    "    \n",
    "cropping = interactive(plot,\n",
    "               index = widgets.IntSlider(min=0, max=len(images)-1),\n",
    "               left = widgets.IntSlider(min=0, max=width-1, value=0, continuous_update=True),\n",
    "               right = widgets.IntSlider(min=0, max=width-1, value=width-1, continuous_update=True),\n",
    "               top = widgets.IntSlider(min=0, max=height-1, value=0, continuous_update=True),\n",
    "               bottom = widgets.IntSlider(min=0, max=height-1, value=height-1, continuous_update=True))\n",
    "display(cropping)"
   ]
  },
  {
   "cell_type": "code",
   "execution_count": null,
   "id": "08534efc",
   "metadata": {},
   "outputs": [],
   "source": [
    "[left, right, top, bottom] = cropping.result"
   ]
  },
  {
   "cell_type": "code",
   "execution_count": null,
   "id": "89a3b27b",
   "metadata": {},
   "outputs": [],
   "source": [
    "images_cropped = []\n",
    "for _image in images:\n",
    "    _image_cropped = _image[top: bottom, left: right]\n",
    "    images_cropped.append(_image_cropped)"
   ]
  },
  {
   "cell_type": "markdown",
   "id": "5051f1d4",
   "metadata": {},
   "source": [
    "# Visualize data cropped "
   ]
  },
  {
   "cell_type": "code",
   "execution_count": null,
   "id": "ea6a8b43",
   "metadata": {},
   "outputs": [],
   "source": [
    "%matplotlib notebook\n",
    "\n",
    "fig1, ax1 = plt.subplots(nrows=1, ncols=1)\n",
    "ax_image = ax1.imshow(images_cropped[0])\n",
    "cb1 = plt.colorbar(ax_image, ax=ax1)\n",
    "\n",
    "def plot(index):\n",
    "    global cb1\n",
    "    cb1.remove()\n",
    "    ax_image = ax1.imshow(images_cropped[index])\n",
    "    cb1 = plt.colorbar(ax_image, ax=ax1)\n",
    "    plt.show()\n",
    "    \n",
    "vv = interactive(plot,\n",
    "               index = widgets.IntSlider(min=0,\n",
    "                                        max=len(images)-1))\n",
    "display(vv)"
   ]
  },
  {
   "cell_type": "markdown",
   "id": "96035064",
   "metadata": {},
   "source": [
    "# Export data "
   ]
  },
  {
   "cell_type": "code",
   "execution_count": null,
   "id": "9e82b822",
   "metadata": {},
   "outputs": [],
   "source": [
    "def export_data(output_folder):\n",
    "\n",
    "    pb = widgets.IntProgress(min=0, max=len(list_files)-1, description=\"Exporting\")\n",
    "    display(pb)\n",
    "\n",
    "    for _index, _image in enumerate(images_cropped):\n",
    "        file_name = os.path.join(output_folder, f\"cropped_image_{_index}.tiff\")\n",
    "        _image_to_export = Image.fromarray(_image)\n",
    "        _image_to_export.save(file_name)\n",
    "        time.sleep(0.15)\n",
    "        pb.value = _index+1\n",
    "\n",
    "    pb.description = \"Done!\"\n",
    "        \n",
    "output_folder_ui = ipywe.fileselector.FileSelectorPanel(instruction=\"Select output folder\",\n",
    "                                                        type='directory',\n",
    "                                                        multiple=False,\n",
    "                                                        next=export_data)\n",
    "output_folder_ui.show()"
   ]
  },
  {
   "cell_type": "markdown",
   "id": "82a69599",
   "metadata": {},
   "source": [
    "# List widgets "
   ]
  },
  {
   "cell_type": "markdown",
   "id": "8f5cf95c",
   "metadata": {},
   "source": [
    "* [Jupyter Widgets](https://ipywidgets.readthedocs.io/en/latest/examples/Widget%20List.html)\n",
    "* [Our own widgets we created based on the jupyter widgets](https://github.com/scikit-beam/ipywe/tree/master)"
   ]
  },
  {
   "cell_type": "code",
   "execution_count": null,
   "id": "b6c8ae02",
   "metadata": {},
   "outputs": [],
   "source": []
  }
 ],
 "metadata": {
  "kernelspec": {
   "display_name": "Python 3 (ipykernel)",
   "language": "python",
   "name": "python3"
  },
  "language_info": {
   "codemirror_mode": {
    "name": "ipython",
    "version": 3
   },
   "file_extension": ".py",
   "mimetype": "text/x-python",
   "name": "python",
   "nbconvert_exporter": "python",
   "pygments_lexer": "ipython3",
   "version": "3.8.13"
  }
 },
 "nbformat": 4,
 "nbformat_minor": 5
}
