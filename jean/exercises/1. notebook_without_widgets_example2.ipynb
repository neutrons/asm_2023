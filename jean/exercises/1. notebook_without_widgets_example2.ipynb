{
 "cells": [
  {
   "cell_type": "markdown",
   "id": "48873b54",
   "metadata": {},
   "source": [
    "# Goal"
   ]
  },
  {
   "cell_type": "markdown",
   "id": "98f28245",
   "metadata": {},
   "source": [
    "* load data set from data/exemple2\n",
    "* crop roughly as displayed here\n",
    "\n",
    "<img src='static/compass_cropping.png' />\n",
    "\n",
    "* export to data/output\n",
    "\n"
   ]
  },
  {
   "cell_type": "markdown",
   "id": "21a76aae",
   "metadata": {},
   "source": [
    "# Import librairies "
   ]
  },
  {
   "cell_type": "code",
   "execution_count": null,
   "id": "6738f5dd",
   "metadata": {},
   "outputs": [],
   "source": [
    "import glob\n",
    "import os\n",
    "import numpy as np\n",
    "from PIL import Image\n",
    "import matplotlib.pyplot as plt"
   ]
  },
  {
   "cell_type": "markdown",
   "id": "e214cf6c",
   "metadata": {},
   "source": [
    "## Input data folder"
   ]
  },
  {
   "cell_type": "code",
   "execution_count": null,
   "id": "ad5da7c7",
   "metadata": {},
   "outputs": [],
   "source": [
    "data_folder = \"./data/example1\""
   ]
  },
  {
   "cell_type": "markdown",
   "id": "60e9d378",
   "metadata": {},
   "source": [
    "### List files to load"
   ]
  },
  {
   "cell_type": "code",
   "execution_count": null,
   "id": "ce619b3f",
   "metadata": {},
   "outputs": [],
   "source": [
    "list_files = glob.glob(os.path.join(data_folder, \"*.tiff\"))\n",
    "print(f\"list_files= {list_files}\")"
   ]
  },
  {
   "cell_type": "markdown",
   "id": "117209d7",
   "metadata": {},
   "source": [
    "## Load data "
   ]
  },
  {
   "cell_type": "code",
   "execution_count": null,
   "id": "84a4d27f",
   "metadata": {},
   "outputs": [],
   "source": [
    "images = []\n",
    "for _file in list_files:\n",
    "    _image = np.array(Image.open(_file))\n",
    "    images.append(_image)"
   ]
  },
  {
   "cell_type": "markdown",
   "id": "d39c09b2",
   "metadata": {},
   "source": [
    "### Visualize data"
   ]
  },
  {
   "cell_type": "code",
   "execution_count": null,
   "id": "edcae4b7",
   "metadata": {},
   "outputs": [],
   "source": [
    "plt.figure(0)\n",
    "plt.imshow(images[3])\n",
    "plt.colorbar()"
   ]
  },
  {
   "cell_type": "markdown",
   "id": "70299321",
   "metadata": {},
   "source": [
    "__exercise__: Let's now visualize image index 5, 7, and 10 "
   ]
  },
  {
   "cell_type": "markdown",
   "id": "034041ad",
   "metadata": {},
   "source": [
    "## Crop data "
   ]
  },
  {
   "cell_type": "code",
   "execution_count": null,
   "id": "6d9683c4",
   "metadata": {},
   "outputs": [],
   "source": [
    "left = 0\n",
    "right = 2000\n",
    "top = 0\n",
    "bottom = 2000"
   ]
  },
  {
   "cell_type": "code",
   "execution_count": null,
   "id": "89a3b27b",
   "metadata": {},
   "outputs": [],
   "source": [
    "images_cropped = []\n",
    "for _image in images:\n",
    "    _image_cropped = _image[top: bottom, left: right]\n",
    "    images_cropped.append(_image_cropped)"
   ]
  },
  {
   "cell_type": "markdown",
   "id": "5051f1d4",
   "metadata": {},
   "source": [
    "### Visualize data cropped "
   ]
  },
  {
   "cell_type": "code",
   "execution_count": null,
   "id": "ea6a8b43",
   "metadata": {},
   "outputs": [],
   "source": [
    "plt.figure(1)\n",
    "plt.imshow(images_cropped[8])\n",
    "plt.colorbar()"
   ]
  },
  {
   "cell_type": "markdown",
   "id": "96035064",
   "metadata": {},
   "source": [
    "## Export data "
   ]
  },
  {
   "cell_type": "code",
   "execution_count": null,
   "id": "9e82b822",
   "metadata": {},
   "outputs": [],
   "source": [
    "output_folder = \"./data/output/example1\""
   ]
  },
  {
   "cell_type": "code",
   "execution_count": null,
   "id": "05d8a4ca",
   "metadata": {},
   "outputs": [],
   "source": [
    "for _index, _image in enumerate(images_cropped):\n",
    "    file_name = os.path.join(output_folder, f\"cropped_image_{_index}.tiff\")\n",
    "    _image_to_export = Image.fromarray(_image)\n",
    "    _image_to_export.save(file_name)"
   ]
  },
  {
   "cell_type": "markdown",
   "id": "71aedd51",
   "metadata": {},
   "source": []
  }
 ],
 "metadata": {
  "kernelspec": {
   "display_name": "Python 3 (ipykernel)",
   "language": "python",
   "name": "python3"
  },
  "language_info": {
   "codemirror_mode": {
    "name": "ipython",
    "version": 3
   },
   "file_extension": ".py",
   "mimetype": "text/x-python",
   "name": "python",
   "nbconvert_exporter": "python",
   "pygments_lexer": "ipython3",
   "version": "3.8.13"
  }
 },
 "nbformat": 4,
 "nbformat_minor": 5
}
